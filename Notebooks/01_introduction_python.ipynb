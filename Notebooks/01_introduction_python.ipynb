{
 "cells": [
  {
   "cell_type": "markdown",
   "metadata": {},
   "source": [
    "# Introduction à python"
   ]
  },
  {
   "cell_type": "markdown",
   "metadata": {},
   "source": [
    "Ce premier notebook est une introduction au langage python avant de s'aventurer plus dans le traitement des données avec python."
   ]
  },
  {
   "cell_type": "markdown",
   "metadata": {},
   "source": [
    "Définir quatre variables distinctes, un entier, un float, un booléen et une chaîne de caractère et affichez-les dans la console."
   ]
  },
  {
   "cell_type": "code",
   "execution_count": 1,
   "metadata": {},
   "outputs": [
    {
     "name": "stdout",
     "output_type": "stream",
     "text": [
      "<class 'int'> <class 'float'> <class 'bool'> <class 'str'>\n",
      "Python\n"
     ]
    }
   ],
   "source": [
    "entier1=5\n",
    "float1=5.5\n",
    "bool1= True \n",
    "chaine1 = 'Python'\n",
    "chaine2 = \"Python\"\n",
    "chaine3 = \"\"\"Python et data\"\"\"\n",
    "\n",
    "print(type(entier1),type(float1), type(bool1),type(chaine1))\n",
    "print(chaine1)"
   ]
  },
  {
   "cell_type": "markdown",
   "metadata": {},
   "source": [
    "Définir une variable comprenant la chaîne ‘Python pour la Science’, utilisez des opérations sur les chaînes pour afficher ‘PYTHON POUR LA DATA SCIENCE’"
   ]
  },
  {
   "cell_type": "code",
   "execution_count": 2,
   "metadata": {},
   "outputs": [],
   "source": [
    "chaine4=\"Python pour la Science\""
   ]
  },
  {
   "cell_type": "code",
   "execution_count": 3,
   "metadata": {},
   "outputs": [
    {
     "data": {
      "text/plain": [
       "'PYTHON POUR LA DATA SCIENCE'"
      ]
     },
     "execution_count": 3,
     "metadata": {},
     "output_type": "execute_result"
    }
   ],
   "source": [
    "(chaine4[0:15]+\"data\"+chaine4[14:]).upper()"
   ]
  },
  {
   "cell_type": "code",
   "execution_count": 4,
   "metadata": {},
   "outputs": [
    {
     "data": {
      "text/plain": [
       "'PYTHON POUR LA DATA SCIENCE'"
      ]
     },
     "execution_count": 4,
     "metadata": {},
     "output_type": "execute_result"
    }
   ],
   "source": [
    "chaine4[:15].upper()+\"DATA\"+chaine4[-8:].upper()"
   ]
  },
  {
   "cell_type": "markdown",
   "metadata": {},
   "source": [
    "Créez une condition qui affiche une valeur différente en fonction du booléen entré.\n"
   ]
  },
  {
   "cell_type": "code",
   "execution_count": 5,
   "metadata": {},
   "outputs": [
    {
     "name": "stdout",
     "output_type": "stream",
     "text": [
      "cond1\n",
      "cond2\n"
     ]
    }
   ],
   "source": [
    "bool1=True\n",
    "# utilisation du == moins contraignant que le is\n",
    "# avec =\n",
    "if bool1==True:\n",
    "    print(\"cond1\")\n",
    "\n",
    "# avec is\n",
    "if bool1 is True:\n",
    "    print(\"cond2\")\n",
    "else:\n",
    "    print(\"c'est faux\")\n"
   ]
  },
  {
   "cell_type": "markdown",
   "metadata": {},
   "source": [
    "Créez une boucle for qui parcourt un range de 0 à 5 et qui ajoute 1 à une variable à chaque boucle\n"
   ]
  },
  {
   "cell_type": "code",
   "execution_count": 6,
   "metadata": {},
   "outputs": [
    {
     "name": "stdout",
     "output_type": "stream",
     "text": [
      "6\n"
     ]
    }
   ],
   "source": [
    "x=0\n",
    "for i in range(0,6):\n",
    "    #x=x+1\n",
    "    x+=1\n",
    "print(x)"
   ]
  },
  {
   "cell_type": "code",
   "execution_count": 7,
   "metadata": {},
   "outputs": [
    {
     "name": "stdout",
     "output_type": "stream",
     "text": [
      "Nous sommes Lundi\n",
      "Nous sommes Mardi\n",
      "Nous sommes Mercredi\n"
     ]
    }
   ],
   "source": [
    "# boucle for sur les valeurs d'une liste\n",
    "for jour in [\"Lundi\", \"Mardi\", \"Mercredi\"]:\n",
    "    print(\"Nous sommes %s\" %(jour))"
   ]
  },
  {
   "cell_type": "code",
   "execution_count": 8,
   "metadata": {},
   "outputs": [
    {
     "name": "stdout",
     "output_type": "stream",
     "text": [
      "Nous sommes Lundi et il fait beau\n",
      "Nous sommes Mardi et il fait beau\n",
      "Nous sommes Mercredi et il fait mauvais\n"
     ]
    }
   ],
   "source": [
    "# boucle for sur les éléments de deux listes simultanément (utilisation de zip)\n",
    "for jour, temps in zip([\"Lundi\", \"Mardi\", \"Mercredi\"],\n",
    "                       [\"beau\",\"beau\", \"mauvais\"]):\n",
    "    print(\"Nous sommes %s et il fait %s\" %(jour,temps))"
   ]
  },
  {
   "cell_type": "markdown",
   "metadata": {},
   "source": [
    "Créer une suite de commande, qui demande l’entrée d’un nombre, multipliez ce nombre par deux et affichez-le en sortie.\n"
   ]
  },
  {
   "cell_type": "code",
   "execution_count": 54,
   "metadata": {},
   "outputs": [
    {
     "name": "stdout",
     "output_type": "stream",
     "text": [
      "Entrez un chiffre :33\n",
      "66.0\n"
     ]
    }
   ],
   "source": [
    "entree=input(\"Entrez un chiffre :\")\n",
    "print(float(entree)*2)"
   ]
  },
  {
   "cell_type": "markdown",
   "metadata": {},
   "source": [
    "Créez une liste composée de 5 éléments, affichez la longueur de la liste.\n",
    "\n",
    "Modifiez la dernière valeur de la liste et construisez une seconde liste à partir des 3 dernières valeurs de la liste initiale.\n"
   ]
  },
  {
   "cell_type": "code",
   "execution_count": 10,
   "metadata": {},
   "outputs": [
    {
     "name": "stdout",
     "output_type": "stream",
     "text": [
      "[22, True, ['Python', 'Data'], 33.5, 'Science']\n"
     ]
    }
   ],
   "source": [
    "liste1=[22,True, [\"Python\",\"Data\"],33.5,\"Science\"]\n",
    "print(liste1)"
   ]
  },
  {
   "cell_type": "code",
   "execution_count": 11,
   "metadata": {},
   "outputs": [
    {
     "name": "stdout",
     "output_type": "stream",
     "text": [
      "[['Python', 'Data'], 33.5, 'Science']\n"
     ]
    }
   ],
   "source": [
    "#je crée une copie partielle\n",
    "liste2=liste1[-3:]\n",
    "print(liste2)"
   ]
  },
  {
   "cell_type": "code",
   "execution_count": 12,
   "metadata": {},
   "outputs": [],
   "source": [
    "# si on crée une nouvelle liste à partir de la liste initiale\n",
    "# dans ce cas, on fait référence aux mêmes données en mémoire\n",
    "liste3=liste2"
   ]
  },
  {
   "cell_type": "code",
   "execution_count": 13,
   "metadata": {},
   "outputs": [
    {
     "name": "stdout",
     "output_type": "stream",
     "text": [
      "['a', 33.5, 'Science']\n"
     ]
    }
   ],
   "source": [
    "# si je modifie liste3, ceci aura un impact sur liste2\n",
    "liste3[0]=\"a\"\n",
    "print(liste2)"
   ]
  },
  {
   "cell_type": "code",
   "execution_count": 14,
   "metadata": {},
   "outputs": [
    {
     "name": "stdout",
     "output_type": "stream",
     "text": [
      "['a', 33.5, 'Science']\n"
     ]
    }
   ],
   "source": [
    "# si on veut conserver liste2 et modifier la nouvelle liste, on utilisera :\n",
    "liste4=liste2.copy()\n",
    "liste4[2]=\"b\"\n",
    "print(liste2)"
   ]
  },
  {
   "cell_type": "code",
   "execution_count": 15,
   "metadata": {},
   "outputs": [
    {
     "data": {
      "text/plain": [
       "['a', 33.5, 'Science']"
      ]
     },
     "execution_count": 15,
     "metadata": {},
     "output_type": "execute_result"
    }
   ],
   "source": [
    "liste2"
   ]
  },
  {
   "cell_type": "markdown",
   "metadata": {},
   "source": [
    "### La comprehension list"
   ]
  },
  {
   "cell_type": "markdown",
   "metadata": {},
   "source": [
    "A partir d’une liste de valeurs en degrés celsius [0, 10, 20, 35], créez une liste en degrés fahrenheits (9/5*temp+32)\n"
   ]
  },
  {
   "cell_type": "code",
   "execution_count": 16,
   "metadata": {},
   "outputs": [],
   "source": [
    "deg_cel=[0,10,20,38]"
   ]
  },
  {
   "cell_type": "code",
   "execution_count": 17,
   "metadata": {},
   "outputs": [
    {
     "name": "stdout",
     "output_type": "stream",
     "text": [
      "[32.0, 50.0, 68.0, 100.4]\n"
     ]
    }
   ],
   "source": [
    "deg_far=[temp *9/5+32 for temp in deg_cel]\n",
    "print(deg_far)"
   ]
  },
  {
   "cell_type": "markdown",
   "metadata": {},
   "source": [
    "Créez la chaîne ‘Vive la data science’, transformez-la en une liste de quatre éléments.  Ajoutez les valeurs ‘et’ et ‘Python’ à cette liste.  Affichez la chaîne de caractère obtenue.\n"
   ]
  },
  {
   "cell_type": "code",
   "execution_count": 18,
   "metadata": {},
   "outputs": [
    {
     "name": "stdout",
     "output_type": "stream",
     "text": [
      "['Vive', 'la', 'data', 'science']\n"
     ]
    }
   ],
   "source": [
    "chaine_ds=\"Vive la data science\"\n",
    "liste_ds=chaine_ds.split()\n",
    "print(liste_ds)"
   ]
  },
  {
   "cell_type": "code",
   "execution_count": 19,
   "metadata": {},
   "outputs": [
    {
     "name": "stdout",
     "output_type": "stream",
     "text": [
      "['Vive', 'la', 'data', 'science', 'et', 'Python']\n"
     ]
    }
   ],
   "source": [
    "liste_ds.append('et')\n",
    "liste_ds.append('Python')\n",
    "print(liste_ds)"
   ]
  },
  {
   "cell_type": "code",
   "execution_count": 20,
   "metadata": {},
   "outputs": [
    {
     "name": "stdout",
     "output_type": "stream",
     "text": [
      "Vive la data science et Python\n"
     ]
    }
   ],
   "source": [
    "chaine_ds2=\" \".join(liste_ds)\n",
    "print(chaine_ds2)"
   ]
  },
  {
   "cell_type": "markdown",
   "metadata": {},
   "source": [
    "Créez la chaîne ‘Ce client est …, il a … ans d’ancienneté et a dépensé … euros’. On utilisera les %... dans la chaîne que l’on pourra remplacer par différentes valeurs\n"
   ]
  },
  {
   "cell_type": "code",
   "execution_count": 21,
   "metadata": {},
   "outputs": [],
   "source": [
    "nom_client=\"Emmanuel\"\n",
    "age_client=12\n",
    "depense_client=100"
   ]
  },
  {
   "cell_type": "code",
   "execution_count": 22,
   "metadata": {},
   "outputs": [],
   "source": [
    "chaine_client=\"Ce client est %s, il a %i ans d’ancienneté et a dépensé %.2f euros\""
   ]
  },
  {
   "cell_type": "code",
   "execution_count": 23,
   "metadata": {},
   "outputs": [
    {
     "name": "stdout",
     "output_type": "stream",
     "text": [
      "Ce client est Emmanuel, il a 12 ans d’ancienneté et a dépensé 100.00 euros\n"
     ]
    }
   ],
   "source": [
    "print(chaine_client % (nom_client,age_client,depense_client))"
   ]
  },
  {
   "cell_type": "markdown",
   "metadata": {},
   "source": [
    "Construire un dictionnaire composé de listes de mots et accédez à un élément d’une des listes du dictionnaire.  Affichez le mot en majuscule.\n"
   ]
  },
  {
   "cell_type": "code",
   "execution_count": 24,
   "metadata": {},
   "outputs": [],
   "source": [
    "dico1={\"Pays\":[\"France\", \"UK\"],\"Pop\":[70,80],\"Autres\":[333,\"rien\"]}"
   ]
  },
  {
   "cell_type": "code",
   "execution_count": 25,
   "metadata": {},
   "outputs": [
    {
     "data": {
      "text/plain": [
       "{'Pays': ['France', 'UK'], 'Pop': [70, 80], 'Autres': [333, 'rien']}"
      ]
     },
     "execution_count": 25,
     "metadata": {},
     "output_type": "execute_result"
    }
   ],
   "source": [
    "dico1"
   ]
  },
  {
   "cell_type": "code",
   "execution_count": 26,
   "metadata": {},
   "outputs": [
    {
     "data": {
      "text/plain": [
       "'FRANCE'"
      ]
     },
     "execution_count": 26,
     "metadata": {},
     "output_type": "execute_result"
    }
   ],
   "source": [
    "dico1[\"Pays\"][0].upper()"
   ]
  },
  {
   "cell_type": "code",
   "execution_count": 27,
   "metadata": {},
   "outputs": [
    {
     "data": {
      "text/plain": [
       "dict_keys(['Pays', 'Pop', 'Autres'])"
      ]
     },
     "execution_count": 27,
     "metadata": {},
     "output_type": "execute_result"
    }
   ],
   "source": [
    "dico1.keys()"
   ]
  },
  {
   "cell_type": "markdown",
   "metadata": {},
   "source": [
    "### Fonctions"
   ]
  },
  {
   "cell_type": "code",
   "execution_count": 28,
   "metadata": {},
   "outputs": [],
   "source": [
    "# cette fonction affiche les arguments stockés dans args (sous forme de tuple)\n",
    "def ma_fonction(a,*args,b=0,c=0):\n",
    "    print(args)"
   ]
  },
  {
   "cell_type": "code",
   "execution_count": 29,
   "metadata": {},
   "outputs": [
    {
     "name": "stdout",
     "output_type": "stream",
     "text": [
      "(2, 3, 4)\n"
     ]
    }
   ],
   "source": [
    "ma_fonction(1,2,3,4)"
   ]
  },
  {
   "cell_type": "code",
   "execution_count": 30,
   "metadata": {},
   "outputs": [],
   "source": [
    "# cette fonction renvoie tous les arguments de la fonction\n",
    "def ma_fonction2(a,*args,b=0,c=0):\n",
    "    return a, args, b , c"
   ]
  },
  {
   "cell_type": "code",
   "execution_count": 31,
   "metadata": {},
   "outputs": [],
   "source": [
    "# on peut \"remplir\" les nouveaux éléments à partir des arguments entrés dans la fonction\n",
    "a2,mes_args,b2,c2=ma_fonction2(1,2,3,4)"
   ]
  },
  {
   "cell_type": "code",
   "execution_count": 32,
   "metadata": {},
   "outputs": [
    {
     "data": {
      "text/plain": [
       "(1, (2, 3, 4), 0, 0)"
      ]
     },
     "execution_count": 32,
     "metadata": {},
     "output_type": "execute_result"
    }
   ],
   "source": [
    "a2,mes_args,b2,c2"
   ]
  },
  {
   "cell_type": "markdown",
   "metadata": {},
   "source": [
    "Créez une fonction lambda qui met en majuscule et qui sépare les mots de deux chaînes de caractères\n"
   ]
  },
  {
   "cell_type": "code",
   "execution_count": 33,
   "metadata": {},
   "outputs": [
    {
     "data": {
      "text/plain": [
       "['PYTHONPYTHON', 'POUR', 'LA', 'SCIENCE']"
      ]
     },
     "execution_count": 33,
     "metadata": {},
     "output_type": "execute_result"
    }
   ],
   "source": [
    "(lambda str1,str2: ((str1+str2).upper()).split())(chaine1, chaine4)"
   ]
  },
  {
   "cell_type": "code",
   "execution_count": 34,
   "metadata": {},
   "outputs": [],
   "source": [
    "ma_fonc_l=lambda str1,str2: ((str1+str2).upper()).split()"
   ]
  },
  {
   "cell_type": "markdown",
   "metadata": {},
   "source": [
    "Construire une fonction prenant en entrée deux listes et qui retourne la moyenne de tous les éléments des deux listes (une seule valeur)\n"
   ]
  },
  {
   "cell_type": "code",
   "execution_count": 35,
   "metadata": {},
   "outputs": [
    {
     "name": "stdout",
     "output_type": "stream",
     "text": [
      "3333333 2000020\n"
     ]
    }
   ],
   "source": [
    "# on génère des listes\n",
    "list1=[i for i in range(3,10000000,3)]\n",
    "list2=[i for i in range(-100,10000000,5)]\n",
    "print(len(list1),len(list2))"
   ]
  },
  {
   "cell_type": "code",
   "execution_count": 36,
   "metadata": {},
   "outputs": [],
   "source": [
    "# approche 1 - mauvaise\n",
    "def fonc_moy1(l1,l2):\n",
    "    somme=0\n",
    "    for i in l1+l2:\n",
    "        somme+=i\n",
    "    return somme/len(l1+l2)"
   ]
  },
  {
   "cell_type": "code",
   "execution_count": 37,
   "metadata": {},
   "outputs": [
    {
     "name": "stdout",
     "output_type": "stream",
     "text": [
      "262 ms ± 4.83 ms per loop (mean ± std. dev. of 7 runs, 1 loop each)\n"
     ]
    }
   ],
   "source": [
    "%timeit fonc_moy1(list1,list2)"
   ]
  },
  {
   "cell_type": "code",
   "execution_count": 38,
   "metadata": {},
   "outputs": [],
   "source": [
    "# approche 2 - beaucoup plus efficace\n",
    "def fonc_moy2(l1,l2):\n",
    "    return sum(l1+l2)/len(l1+l2)"
   ]
  },
  {
   "cell_type": "code",
   "execution_count": 39,
   "metadata": {},
   "outputs": [
    {
     "name": "stdout",
     "output_type": "stream",
     "text": [
      "206 ms ± 1.46 ms per loop (mean ± std. dev. of 7 runs, 1 loop each)\n"
     ]
    }
   ],
   "source": [
    "%timeit fonc_moy2(list1,list2)"
   ]
  },
  {
   "cell_type": "code",
   "execution_count": 40,
   "metadata": {},
   "outputs": [],
   "source": [
    "# approche lambda\n",
    "fonc_moy3 = lambda l1,l2: sum(l1+l2)/len(l1+l2)"
   ]
  },
  {
   "cell_type": "code",
   "execution_count": 41,
   "metadata": {},
   "outputs": [
    {
     "name": "stdout",
     "output_type": "stream",
     "text": [
      "199 ms ± 2.79 ms per loop (mean ± std. dev. of 7 runs, 1 loop each)\n"
     ]
    }
   ],
   "source": [
    "%timeit fonc_moy3(list1,list2)"
   ]
  },
  {
   "cell_type": "markdown",
   "metadata": {},
   "source": [
    "## Bibliothèques"
   ]
  },
  {
   "cell_type": "code",
   "execution_count": 42,
   "metadata": {},
   "outputs": [],
   "source": [
    "# méthodes pour importer des bibliothèques\n",
    "import numpy as np\n",
    "import pandas as pd\n",
    "from pandas import DataFrame\n",
    "from sklearn.cluster import KMeans"
   ]
  },
  {
   "cell_type": "markdown",
   "metadata": {},
   "source": [
    "On peut facilement créer des bibliothèque en utilisant un fichier .py, voir support"
   ]
  },
  {
   "cell_type": "markdown",
   "metadata": {},
   "source": [
    "### Les classes"
   ]
  },
  {
   "cell_type": "markdown",
   "metadata": {},
   "source": [
    "On commence par créer une classe Client prenant deux propriétés et une méthode"
   ]
  },
  {
   "cell_type": "code",
   "execution_count": 43,
   "metadata": {},
   "outputs": [],
   "source": [
    "class Client:\n",
    "    \"\"\"Classe permettant de définir un objet client\"\"\"\n",
    "    def __init__(self,ville=\"Paris\",nouveau_client=True):\n",
    "        self.ville=ville\n",
    "        self.nouveau_client=nouveau_client\n",
    "    \n",
    "    def demenagement(self,nouvelle_ville):\n",
    "        \"\"\"Le client déménage\"\"\"\n",
    "        self.ville=nouvelle_ville\n"
   ]
  },
  {
   "cell_type": "code",
   "execution_count": 44,
   "metadata": {},
   "outputs": [],
   "source": [
    "client1=Client(ville=\"Lyon\",nouveau_client=True)"
   ]
  },
  {
   "cell_type": "code",
   "execution_count": 45,
   "metadata": {},
   "outputs": [],
   "source": [
    "client1.demenagement(\"Clermont\")"
   ]
  },
  {
   "cell_type": "code",
   "execution_count": 46,
   "metadata": {},
   "outputs": [
    {
     "data": {
      "text/plain": [
       "'Clermont'"
      ]
     },
     "execution_count": 46,
     "metadata": {},
     "output_type": "execute_result"
    }
   ],
   "source": [
    "client1.ville"
   ]
  },
  {
   "cell_type": "markdown",
   "metadata": {},
   "source": [
    "Définissez une classe CompteBancaire(), qui permette d'instancier des objets tels que compte1, compte2, etc. "
   ]
  },
  {
   "cell_type": "markdown",
   "metadata": {},
   "source": [
    "Le constructeur de cette classe initialisera deux attributs d'instance nom et solde, avec les valeurs par défaut ‘A' et 0.\n",
    "\n",
    "Trois autres méthodes sont définies :\n",
    "\n",
    "- depot(somme) permettra d'ajouter une certaine somme au solde\n",
    "\n",
    "- retrait(somme) permettra de retirer une certaine somme du solde\n",
    "\n",
    "- affiche() permettra d'afficher le solde du compte et un message d’alerte en cas de solde négatif. \n"
   ]
  },
  {
   "cell_type": "code",
   "execution_count": 47,
   "metadata": {},
   "outputs": [],
   "source": [
    "class CompteBancaire:\n",
    "    \"\"\" Création d'objet compte bancaire\"\"\"\n",
    "    \n",
    "    def __init__(self, nom=\"\",solde=0):\n",
    "        self.nom=nom\n",
    "        self.solde=solde\n",
    "\n",
    "    def retrait(self, somme):\n",
    "        if self.solde-somme<0:\n",
    "            print(\"Votre solde est négatif ! Approvisionnez votre compte\")\n",
    "        else:\n",
    "            self.solde-=somme\n",
    "        \n",
    "    def depot(self,somme):\n",
    "        self.solde+=somme\n",
    "        \n",
    "    def affiche_solde(self):\n",
    "        if self.solde<0:\n",
    "            print(\"Votre solde est négatif ! Approvisionnez votre compte\")    \n",
    "        print(\"Votre solde est de :\", self.solde)"
   ]
  },
  {
   "cell_type": "code",
   "execution_count": 48,
   "metadata": {},
   "outputs": [],
   "source": [
    "compte1=CompteBancaire()"
   ]
  },
  {
   "cell_type": "code",
   "execution_count": 49,
   "metadata": {},
   "outputs": [
    {
     "name": "stdout",
     "output_type": "stream",
     "text": [
      "Votre solde est négatif ! Approvisionnez votre compte\n"
     ]
    }
   ],
   "source": [
    "compte1.retrait(10)"
   ]
  },
  {
   "cell_type": "code",
   "execution_count": 50,
   "metadata": {},
   "outputs": [],
   "source": [
    "compte1.depot(1000)"
   ]
  },
  {
   "cell_type": "code",
   "execution_count": 51,
   "metadata": {},
   "outputs": [
    {
     "name": "stdout",
     "output_type": "stream",
     "text": [
      "Votre solde est de : 1000\n"
     ]
    }
   ],
   "source": [
    "compte1.affiche_solde()"
   ]
  },
  {
   "cell_type": "markdown",
   "metadata": {},
   "source": [
    "### Gestion d'exceptions"
   ]
  },
  {
   "cell_type": "markdown",
   "metadata": {},
   "source": [
    "Créer une gestion d’exception pour une fonction prenant en entrée deux input() puis divisez-les, utiliser les différentes erreurs d’exceptions\n"
   ]
  },
  {
   "cell_type": "code",
   "execution_count": 52,
   "metadata": {},
   "outputs": [],
   "source": [
    "def division():\n",
    "    try:\n",
    "        nombre1=input(\"Entrez un nombre :\")\n",
    "        nombre2=input(\"Entrez un autre nombre :\")\n",
    "        print(float(nombre1)/float(nombre2))\n",
    "    except ValueError:\n",
    "        print(\"Il y a une erreur de type\")\n",
    "    except ZeroDivisionError:\n",
    "        print(\"Impossible de diviser par 0\")"
   ]
  },
  {
   "cell_type": "code",
   "execution_count": 53,
   "metadata": {},
   "outputs": [
    {
     "name": "stdout",
     "output_type": "stream",
     "text": [
      "Entrez un nombre :4\n",
      "Entrez un autre nombre :0\n",
      "Impossible de diviser par 0\n"
     ]
    }
   ],
   "source": [
    "division()"
   ]
  }
 ],
 "metadata": {
  "kernelspec": {
   "display_name": "Python 3",
   "language": "python",
   "name": "python3"
  },
  "language_info": {
   "codemirror_mode": {
    "name": "ipython",
    "version": 3
   },
   "file_extension": ".py",
   "mimetype": "text/x-python",
   "name": "python",
   "nbconvert_exporter": "python",
   "pygments_lexer": "ipython3",
   "version": "3.6.5"
  },
  "varInspector": {
   "cols": {
    "lenName": 16,
    "lenType": 16,
    "lenVar": 40
   },
   "kernels_config": {
    "python": {
     "delete_cmd_postfix": "",
     "delete_cmd_prefix": "del ",
     "library": "var_list.py",
     "varRefreshCmd": "print(var_dic_list())"
    },
    "r": {
     "delete_cmd_postfix": ") ",
     "delete_cmd_prefix": "rm(",
     "library": "var_list.r",
     "varRefreshCmd": "cat(var_dic_list()) "
    }
   },
   "types_to_exclude": [
    "module",
    "function",
    "builtin_function_or_method",
    "instance",
    "_Feature"
   ],
   "window_display": false
  }
 },
 "nbformat": 4,
 "nbformat_minor": 2
}
